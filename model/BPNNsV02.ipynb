{
 "cells": [
  {
   "cell_type": "code",
   "execution_count": 1,
   "metadata": {
    "collapsed": true
   },
   "outputs": [],
   "source": [
    "import numpy as np\n",
    "import pandas as pd\n",
    "from matplotlib import pyplot as plt\n",
    "from sklearn.preprocessing import StandardScaler\n",
    "from sklearn.metrics import classification_report\n",
    "from sklearn.metrics import roc_curve, roc_auc_score\n",
    "from sklearn.model_selection import train_test_split\n",
    "from tensorflow.keras.layers import Dense\n",
    "from tensorflow.keras.optimizers import Adam\n",
    "from tensorflow.keras.models import Sequential\n",
    "from tensorflow.keras.regularizers import l1_l2\n",
    "from tensorflow.keras.initializers import he_normal"
   ]
  },
  {
   "cell_type": "code",
   "execution_count": 2,
   "metadata": {
    "pycharm": {
     "name": "#%%\n"
    }
   },
   "outputs": [],
   "source": [
    "def to_one_hot(labels):\n",
    "    \"\"\"\n",
    "    Encode labels with categorical encoding\n",
    "    :param labels: labels encoded with label encoder\n",
    "    :return: one-hot encoded results\n",
    "    \"\"\"\n",
    "    results = np.zeros((len(labels), len(set(labels))))\n",
    "    for i, label in enumerate(labels):\n",
    "        results[i,label] = 1.0\n",
    "    return results"
   ]
  },
  {
   "cell_type": "code",
   "execution_count": 3,
   "metadata": {
    "pycharm": {
     "name": "#%%\n"
    }
   },
   "outputs": [],
   "source": [
    "def initDataset(X, y, test_size=0.3):\n",
    "    \"\"\"\n",
    "    Normalize, split and encode dataset\n",
    "    :param X: feature values, array-like of shape (n_samples, n_features)\n",
    "    :param y: labels for each sample\n",
    "    :param test_size: float from 0 to 1 (Default: 0.3)\n",
    "    :return: tuple of (X_train, X_test, y_train, y_test, y_train_encoded, y_test_encoded)\n",
    "    \"\"\"\n",
    "    # Normalize the dataset features by Z-Score\n",
    "    X_scaled = StandardScaler().fit_transform(X)\n",
    "    # Split the dataset with stratified method\n",
    "    # Default train_size:test_size = 7:3\n",
    "    X_train, X_test, y_train, y_test = train_test_split(X_scaled,\n",
    "                                                        y,\n",
    "                                                        test_size=test_size,\n",
    "                                                        random_state=986,\n",
    "                                                        shuffle=True,\n",
    "                                                        stratify=y)\n",
    "    # Encode y with categorical encoding\n",
    "    y_train_encoded = to_one_hot(y_train)\n",
    "    y_test_encoded = to_one_hot(y_test)\n",
    "    return X_train, X_test, y_train, y_test, y_train_encoded, y_test_encoded"
   ]
  },
  {
   "cell_type": "code",
   "execution_count": 4,
   "metadata": {
    "pycharm": {
     "name": "#%%\n"
    }
   },
   "outputs": [],
   "source": [
    "def createBPNN(L, n_inputs, n_hidden, n_L, lr=0.001):\n",
    "    \"\"\"\n",
    "    Initialize and compile a BPNN Model\n",
    "    :param L: #Layers (the number of layers)\n",
    "    :param n_inputs: #Features (the number of features for a sample)\n",
    "    :param n_hidden: the number of units for each hidden layer\n",
    "    :param n_L: the number of units for output layer\n",
    "    :param lr: learning rate for the optimizer (Default: 0.001)\n",
    "    :return: compiled BPNN Model\n",
    "    \"\"\"\n",
    "    # BP-Neural Network Model Definition\n",
    "    # Sequential groups a linear stack of layers\n",
    "    BPNN = Sequential(name='BPNN')\n",
    "    # Add an input layer with shape of (n_inputs,) to BPNN Model, as well as\n",
    "    # the input layer and the first layer with n_inputs units,\n",
    "    # L-3 hidden layers from 2 to L-1 with n_hidden units each layer,\n",
    "    # and an output layer with n_L units.\n",
    "    Dense_Attr = {\n",
    "    'use_bias': True,\n",
    "    'kernel_initializer': he_normal(seed=917),\n",
    "    'bias_initializer': 'zeros',\n",
    "    'kernel_regularizer': l1_l2(l1=0.01, l2=0.01)\n",
    "    }\n",
    "    BPNN.add(Dense(units=n_inputs, input_shape=(n_inputs,), \n",
    "                   activation='tanh',\n",
    "                   **Dense_Attr, \n",
    "                   name='Layer1'))\n",
    "    for i in range(2, L):\n",
    "        BPNN.add(Dense(units=n_hidden, \n",
    "                       activation='tanh',\n",
    "                       **Dense_Attr, \n",
    "                       name='Layer'+str(i)))\n",
    "    BPNN.add(Dense(units=n_L, \n",
    "                   activation='softmax', \n",
    "                   **Dense_Attr, \n",
    "                   name='Output_layer'))\n",
    "    BPNN.compile(optimizer=Adam(lr=lr, beta_1=0.9, beta_2=0.999), \n",
    "                 loss='categorical_crossentropy')\n",
    "    return BPNN"
   ]
  },
  {
   "cell_type": "code",
   "execution_count": 5,
   "metadata": {
    "pycharm": {
     "name": "#%%\n"
    }
   },
   "outputs": [],
   "source": [
    "def fitModel(BPNN, batch_size, epochs, **dataset):\n",
    "    \"\"\"\n",
    "    Fit BPNN model, visualize training history, and predict the test samples\n",
    "    :param BPNN: model class\n",
    "    :param batch_size: size of a batch\n",
    "    :param epochs: number of training iterations\n",
    "    :param dataset: include X_train, X_test, y_train_encoded, and y_test_encoded\n",
    "    :return: tuple of (the probability that test samples belong to each class, the result of classification)\n",
    "    \"\"\"\n",
    "    # Fit BPNN Model\n",
    "    history = BPNN.fit(x=dataset['X_train'],\n",
    "                       y=dataset['y_train_encoded'],\n",
    "                       batch_size=batch_size,\n",
    "                       epochs=epochs,\n",
    "                       validation_data=(dataset['X_test'], dataset['y_test_encoded']),\n",
    "                       verbose=0,\n",
    "                       shuffle=True)\n",
    "    # Visualize training history\n",
    "    plt.plot(history.history['loss'], color='g', label='Train')\n",
    "    plt.plot(history.history['val_loss'], color='r', label='Test')\n",
    "    plt.title('Model loss')\n",
    "    plt.xlabel('Epochs')\n",
    "    plt.ylabel('Loss')\n",
    "    plt.legend()\n",
    "    plt.savefig('Model loss', dpi=400, bbox_inches='tight')\n",
    "    plt.show()\n",
    "    # Output the probability that test samples belong to each class\n",
    "    # Array of float, shape of (n_samples, n_classes)\n",
    "    y_pred_p = BPNN.predict(dataset['X_test'])\n",
    "    # Output the result of classification\n",
    "    y_pred = [np.argmax(y_pred_p[i]) for i in range(y_pred_p.shape[0])]\n",
    "    return y_pred_p, y_pred"
   ]
  },
  {
   "cell_type": "code",
   "execution_count": 6,
   "metadata": {
    "pycharm": {
     "name": "#%%\n"
    }
   },
   "outputs": [],
   "source": [
    "def CalcF1Scores(y_true, y_pred, labels, target_names):\n",
    "    \"\"\"\n",
    "    Evaluete model by precision values, recall values, and F1-Scores. Print all of them\n",
    "    :param y_true: ground truth (correct) target values\n",
    "    :param y_pred: estimated targets as returned by a classifier\n",
    "    :param labels: list of label indices to include in the report\n",
    "    :param target_names: display names matching the labels (same order)\n",
    "    :return: None\n",
    "    \"\"\"\n",
    "    print(classification_report(y_true, y_pred, labels=labels, target_names=target_names))"
   ]
  },
  {
   "cell_type": "code",
   "execution_count": 7,
   "metadata": {
    "pycharm": {
     "name": "#%%\n"
    }
   },
   "outputs": [],
   "source": [
    "def DrawROCGraph(y_true, y_pred_p, colors, label_names):\n",
    "    \"\"\"\n",
    "    Draw ROC-AUC graph\n",
    "    :param y_true: true labels\n",
    "    :param y_pred_p: the probability that test samples belong to each class\n",
    "    :param colors: the colors of ROC curves for each class\n",
    "    :param label_names: names of labels (the same order as colors)\n",
    "    :return: None\n",
    "    \"\"\"\n",
    "    lw = 2\n",
    "    plt.plot([0, 1], [0, 1], color='black', lw=lw, linestyle='--')\n",
    "    for i in range(y_pred_p.shape[1]):\n",
    "        scores = y_pred_p[:,i]\n",
    "        fpr, tpr, thresholds = roc_curve(y_true, scores, pos_label=i)\n",
    "        plt.plot(fpr,\n",
    "                 tpr,\n",
    "                 color=colors[i],\n",
    "                 lw=lw,\n",
    "                 label='ROC curve %s (area = %.3f)' % (label_names[i], roc_auc_score(y_true==i, scores)))\n",
    "    plt.xlim([0.0, 1.0])\n",
    "    plt.ylim([0.0, 1.05])\n",
    "    plt.xlabel('False Positive Rate')\n",
    "    plt.ylabel('True Positive Rate')\n",
    "    plt.title('Receiver operating characteristic')\n",
    "    plt.legend(loc=\"lower right\")\n",
    "    plt.savefig('ROC', dpi=400, bbox_inches='tight')\n",
    "    plt.show()"
   ]
  },
  {
   "cell_type": "code",
   "execution_count": 8,
   "metadata": {
    "pycharm": {
     "name": "#%%\n"
    }
   },
   "outputs": [],
   "source": [
    "def saveModel(model):\n",
    "    \"\"\"\n",
    "    Save model's weights and biases for each layer, and print its brief description\n",
    "    :param model: Model in Keras\n",
    "    :return: None\n",
    "    \"\"\"\n",
    "    print(model.summary())\n",
    "    with pd.ExcelWriter('ModelDescription.xlsx') as writer:\n",
    "        attr = {'header': False, 'index': False}\n",
    "        for layer in model.layers:\n",
    "            layer_name = layer.name\n",
    "            weight = layer.get_weights()[0]\n",
    "            bias = layer.get_weights()[1]\n",
    "            # Print\n",
    "            print('w[%s]: ' % layer_name)\n",
    "            print(weight)\n",
    "            print('b[%s]: ' % layer_name)\n",
    "            print(bias)\n",
    "            # Save as Excel\n",
    "            pd.DataFrame(weight).to_excel(writer, 'w_%s'%layer_name, **attr)\n",
    "            pd.DataFrame(bias).to_excel(writer, 'b_%s'%layer_name, **attr)\n",
    "    # Save model as HDF5\n",
    "    model.save('model.h5')"
   ]
  },
  {
   "cell_type": "code",
   "execution_count": 9,
   "metadata": {
    "pycharm": {
     "name": "#%%\n"
    }
   },
   "outputs": [
    {
     "data": {
      "text/plain": "        股票代码   股票简称      FAC1      FAC2      FAC3      FAC4      FAC5  \\\n0  000606.SZ   ST顺利 -0.855124  1.291562  0.612782  0.311189 -1.015941   \n1  000673.SZ  *ST当代 -1.365196 -0.090322  0.844945 -0.085126 -1.650376   \n2  000681.SZ   视觉中国 -0.020451 -0.305338  0.172405 -0.414931 -1.658652   \n\n       FAC6      FAC7      FAC8      FAC9  财务状况  \n0  0.504615  2.195079  1.594154  1.086768     0  \n1  0.697448 -1.144989 -0.924063  0.332632     0  \n2 -1.150607 -0.933424  0.358798 -0.003965     1  ",
      "text/html": "<div>\n<style scoped>\n    .dataframe tbody tr th:only-of-type {\n        vertical-align: middle;\n    }\n\n    .dataframe tbody tr th {\n        vertical-align: top;\n    }\n\n    .dataframe thead th {\n        text-align: right;\n    }\n</style>\n<table border=\"1\" class=\"dataframe\">\n  <thead>\n    <tr style=\"text-align: right;\">\n      <th></th>\n      <th>股票代码</th>\n      <th>股票简称</th>\n      <th>FAC1</th>\n      <th>FAC2</th>\n      <th>FAC3</th>\n      <th>FAC4</th>\n      <th>FAC5</th>\n      <th>FAC6</th>\n      <th>FAC7</th>\n      <th>FAC8</th>\n      <th>FAC9</th>\n      <th>财务状况</th>\n    </tr>\n  </thead>\n  <tbody>\n    <tr>\n      <th>0</th>\n      <td>000606.SZ</td>\n      <td>ST顺利</td>\n      <td>-0.855124</td>\n      <td>1.291562</td>\n      <td>0.612782</td>\n      <td>0.311189</td>\n      <td>-1.015941</td>\n      <td>0.504615</td>\n      <td>2.195079</td>\n      <td>1.594154</td>\n      <td>1.086768</td>\n      <td>0</td>\n    </tr>\n    <tr>\n      <th>1</th>\n      <td>000673.SZ</td>\n      <td>*ST当代</td>\n      <td>-1.365196</td>\n      <td>-0.090322</td>\n      <td>0.844945</td>\n      <td>-0.085126</td>\n      <td>-1.650376</td>\n      <td>0.697448</td>\n      <td>-1.144989</td>\n      <td>-0.924063</td>\n      <td>0.332632</td>\n      <td>0</td>\n    </tr>\n    <tr>\n      <th>2</th>\n      <td>000681.SZ</td>\n      <td>视觉中国</td>\n      <td>-0.020451</td>\n      <td>-0.305338</td>\n      <td>0.172405</td>\n      <td>-0.414931</td>\n      <td>-1.658652</td>\n      <td>-1.150607</td>\n      <td>-0.933424</td>\n      <td>0.358798</td>\n      <td>-0.003965</td>\n      <td>1</td>\n    </tr>\n  </tbody>\n</table>\n</div>"
     },
     "execution_count": 9,
     "metadata": {},
     "output_type": "execute_result"
    }
   ],
   "source": [
    "df = pd.read_excel('股票因子.xlsx')\n",
    "df.head(3)"
   ]
  },
  {
   "cell_type": "code",
   "execution_count": 10,
   "outputs": [
    {
     "data": {
      "text/plain": "1    40\n0    18\nName: 财务状况, dtype: int64"
     },
     "execution_count": 10,
     "metadata": {},
     "output_type": "execute_result"
    }
   ],
   "source": [
    "df['财务状况'].value_counts()"
   ],
   "metadata": {
    "collapsed": false,
    "pycharm": {
     "name": "#%%\n"
    }
   }
  },
  {
   "cell_type": "code",
   "execution_count": 11,
   "outputs": [
    {
     "data": {
      "text/plain": "<Figure size 432x288 with 1 Axes>",
      "image/png": "[encoded data removed]"
     },
     "metadata": {
      "needs_background": "light"
     },
     "output_type": "display_data"
    },
    {
     "name": "stdout",
     "output_type": "stream",
     "text": [
      "              precision    recall  f1-score   support\n",
      "\n",
      "      *ST/ST       1.00      0.67      0.80         6\n",
      "      Normal       0.86      1.00      0.92        12\n",
      "\n",
      "    accuracy                           0.89        18\n",
      "   macro avg       0.93      0.83      0.86        18\n",
      "weighted avg       0.90      0.89      0.88        18\n",
      "\n"
     ]
    }
   ],
   "source": [
    "X_train, X_test, y_train, y_test, y_train_encoded, y_test_encoded = initDataset(df.iloc[:,2:-1].values,\n",
    "                                                                                df.iloc[:,-1].values,\n",
    "                                                                                test_size=0.3)\n",
    "BPNN = createBPNN(L=5, n_inputs=9, n_hidden=7, n_L=2, lr=0.04)\n",
    "y_pred_p, y_pred = fitModel(BPNN,\n",
    "                            batch_size=X_train.shape[0],\n",
    "                            epochs=80,\n",
    "                            X_train = X_train,\n",
    "                            X_test = X_test,\n",
    "                            y_train_encoded = y_train_encoded,\n",
    "                            y_test_encoded = y_test_encoded)\n",
    "CalcF1Scores(y_true=y_test, y_pred=y_pred, labels=[0,1], target_names=['*ST/ST','Normal'])"
   ],
   "metadata": {
    "collapsed": false,
    "pycharm": {
     "name": "#%%\n"
    }
   }
  },
  {
   "cell_type": "code",
   "execution_count": 12,
   "outputs": [
    {
     "data": {
      "text/plain": "<Figure size 432x288 with 1 Axes>",
      "image/png": "[encoded data removed]"
     },
     "metadata": {
      "needs_background": "light"
     },
     "output_type": "display_data"
    }
   ],
   "source": [
    "DrawROCGraph(y_true=y_test,\n",
    "             y_pred_p=y_pred_p[:,0:1],\n",
    "             colors=['cornflowerblue'],\n",
    "             label_names=[''])"
   ],
   "metadata": {
    "collapsed": false,
    "pycharm": {
     "name": "#%%\n"
    }
   }
  },
  {
   "cell_type": "code",
   "execution_count": 13,
   "outputs": [
    {
     "name": "stdout",
     "output_type": "stream",
     "text": [
      "Model: \"BPNN\"\n",
      "_________________________________________________________________\n",
      "Layer (type)                 Output Shape              Param #   \n",
      "=================================================================\n",
      "Layer1 (Dense)               (None, 9)                 90        \n",
      "_________________________________________________________________\n",
      "Layer2 (Dense)               (None, 7)                 70        \n",
      "_________________________________________________________________\n",
      "Layer3 (Dense)               (None, 7)                 56        \n",
      "_________________________________________________________________\n",
      "Layer4 (Dense)               (None, 7)                 56        \n",
      "_________________________________________________________________\n",
      "Output_layer (Dense)         (None, 2)                 16        \n",
      "=================================================================\n",
      "Total params: 288\n",
      "Trainable params: 288\n",
      "Non-trainable params: 0\n",
      "_________________________________________________________________\n",
      "None\n",
      "w[Layer1]: \n",
      "[[ 2.32883636e-03 -3.26347654e-03  7.02115381e-03  1.88290887e-02\n",
      "   3.65905046e-01  1.90060586e-03  1.17972214e-03 -6.19811285e-03\n",
      "   1.82796866e-01]\n",
      " [-2.38232780e-03 -1.49747997e-03 -4.37618233e-04  1.08386539e-02\n",
      "  -4.08967445e-03  6.26390055e-03 -5.48451440e-04  3.79558303e-04\n",
      "  -3.94200265e-01]\n",
      " [-4.18881100e-04 -3.51630338e-03  1.27406716e-02 -4.32433188e-03\n",
      "  -2.53597647e-01 -1.21361883e-02  3.89209599e-04  3.64741660e-03\n",
      "  -8.71016085e-01]\n",
      " [ 9.30113159e-03 -1.50195323e-04 -6.44936785e-03 -5.75636281e-03\n",
      "  -7.13743083e-03 -1.07128825e-03  8.63795634e-03  1.36184357e-02\n",
      "  -3.48610803e-04]\n",
      " [-1.03011420e-02  2.06498709e-03 -2.31924932e-03  4.24194429e-03\n",
      "   4.10510339e-02  2.10988568e-03  2.52362271e-03  1.66604761e-04\n",
      "   1.03391886e-01]\n",
      " [-1.48403458e-03  4.37126262e-03 -1.26994005e-03  1.06600784e-02\n",
      "   1.20276086e-01  5.13152918e-03  1.12150016e-03  3.14934109e-03\n",
      "  -1.07097477e-01]\n",
      " [ 2.12192396e-03  7.20215961e-04  8.32441077e-03  7.75922555e-04\n",
      "   4.88536745e-01  9.92186368e-04  4.87938058e-04 -4.62262705e-03\n",
      "  -1.50531530e-01]\n",
      " [-1.00073414e-02 -3.65678105e-03  1.25937397e-03 -9.84591898e-05\n",
      "   4.44516659e-01 -2.90659862e-03  8.11994914e-03  1.52178714e-03\n",
      "   2.00733468e-02]\n",
      " [-1.84326631e-03  1.17506657e-03  4.88764234e-03  2.43504299e-03\n",
      "  -3.86137031e-02  1.22791366e-03 -8.92287306e-03  4.88558365e-03\n",
      "  -1.04389511e-01]]\n",
      "b[Layer1]: \n",
      "[ 0.01702296  0.24421081 -0.23211129 -0.05253733  0.7014237   0.07960869\n",
      "  0.10190336  0.5036934   0.23485364]\n",
      "w[Layer2]: \n",
      "[[-5.7944991e-03 -2.0241365e-03  3.7411307e-03  4.2349081e-03\n",
      "   7.2230482e-03 -3.0460123e-03  3.3969563e-03]\n",
      " [-7.8814784e-03  1.2362915e-02 -1.0457253e-03  4.5015095e-03\n",
      "  -6.6680377e-03 -9.1741495e-03  2.8024069e-03]\n",
      " [ 2.0720384e-03  6.9616749e-03  3.7999465e-03 -3.8025405e-03\n",
      "   4.5543973e-05 -2.3589714e-03 -8.0747753e-03]\n",
      " [ 1.1533063e-03  1.3259695e-03 -5.7822438e-03 -7.0186792e-04\n",
      "  -3.0022080e-03  4.1832197e-03  8.2666869e-04]\n",
      " [ 6.4031794e-03  8.7485838e-01  9.0986239e-03  7.4538514e-03\n",
      "   1.2041518e-02  6.6471482e-03 -1.2682680e-02]\n",
      " [-5.8879843e-03 -1.4857144e-02 -5.2036690e-03  3.5620723e-03\n",
      "   1.1008191e-03 -7.5533409e-03 -1.1576703e-03]\n",
      " [ 1.8934896e-03 -4.3365890e-03 -4.2039249e-04  4.2138267e-03\n",
      "  -5.0213924e-03  3.2695034e-03  5.7016639e-03]\n",
      " [-8.0860704e-03  3.7002796e-03  5.7337456e-03  6.0494533e-03\n",
      "  -3.4446889e-03  9.6214907e-03  2.0574145e-03]\n",
      " [-1.3744714e-02  1.3433774e+00  1.0346780e-02  7.6409597e-03\n",
      "  -1.7615845e-02  2.0713317e-03  6.4282969e-04]]\n",
      "b[Layer2]: \n",
      "[ 0.24521159 -0.43325406 -0.5097588   0.06620375  0.0398706   0.13893749\n",
      " -0.21244092]\n",
      "w[Layer3]: \n",
      "[[ 1.1854990e-02  2.6929732e-03 -7.4741626e-03 -1.2962049e-02\n",
      "   2.4221588e-03  5.4259952e-03 -5.7808962e-03]\n",
      " [ 4.1963952e-03  9.9268049e-01 -8.6796945e-03  1.4700431e+00\n",
      "   1.2558993e-02  4.2836047e-03  2.5846954e-03]\n",
      " [ 3.4738146e-03 -4.0380615e-03  1.5829965e-03 -2.1600153e-03\n",
      "   3.8520666e-04  2.3126183e-03  1.9997410e-03]\n",
      " [ 5.2349237e-03 -4.5596147e-03 -1.6788207e-03  2.6467403e-03\n",
      "  -3.4870720e-03 -1.2349393e-02 -2.5732371e-03]\n",
      " [ 1.8373145e-02  1.9633073e-02  3.7972736e-03 -4.6627144e-03\n",
      "  -1.1875027e-02 -3.0659470e-03 -1.2453749e-03]\n",
      " [ 6.1468268e-03 -6.9023413e-04  1.3444466e-02  1.1148967e-04\n",
      "  -3.5163988e-03  3.5013102e-03  6.8710553e-03]\n",
      " [ 1.9395407e-03  1.2548016e-03 -3.4149638e-03  1.1768004e-02\n",
      "  -4.5911013e-03 -6.9159381e-03 -3.3547427e-03]]\n",
      "b[Layer3]: \n",
      "[-0.09104968 -0.03751473 -0.01272844 -0.04572918 -0.11189831  0.25979486\n",
      "  0.22536092]\n",
      "w[Layer4]: \n",
      "[[ 3.07293609e-02 -2.58834520e-03 -1.57700423e-02 -1.05232745e-02\n",
      "   1.51048740e-02 -8.72703549e-03 -5.14175370e-03]\n",
      " [ 4.36793029e-01 -4.84780758e-05  1.98324502e-01  5.95354319e-01\n",
      "  -6.98445365e-06 -4.76855159e-01  1.18541974e-03]\n",
      " [ 4.73916298e-03 -6.20058365e-03  6.85444707e-03  6.30221679e-04\n",
      "  -3.06960219e-03  7.92070571e-03 -1.23196971e-02]\n",
      " [ 7.58771956e-01 -4.27959068e-03  3.83452684e-01  9.53972578e-01\n",
      "   2.10885424e-04 -7.79105723e-01 -6.98011369e-04]\n",
      " [-2.25993386e-03 -2.75859609e-04  1.22355309e-03  1.22759333e-02\n",
      "  -1.06002884e-02 -1.16718495e-02 -9.17583820e-04]\n",
      " [-4.54185205e-03 -2.10213475e-05 -1.94471097e-03 -7.45296828e-04\n",
      "   7.47394608e-03 -1.44280330e-03  6.74095564e-03]\n",
      " [-1.64442370e-03  8.37802701e-03  5.85295912e-03  1.79800100e-03\n",
      "  -2.47292500e-03  4.02094238e-03  4.15022485e-03]]\n",
      "b[Layer4]: \n",
      "[-0.01236937 -0.24385706 -0.02379733  0.00727887  0.03823601 -0.00126285\n",
      "  0.05857072]\n",
      "w[Output_layer]: \n",
      "[[-0.73930216  0.6232274 ]\n",
      " [-0.00110432 -0.00269323]\n",
      " [-0.28309575  0.28012067]\n",
      " [-0.9562528   0.92337584]\n",
      " [ 0.00408566  0.00582286]\n",
      " [ 0.72624046 -0.723607  ]\n",
      " [-0.00912488  0.00822024]]\n",
      "b[Output_layer]: \n",
      "[-0.19224     0.19223982]\n"
     ]
    }
   ],
   "source": [
    "saveModel(BPNN)"
   ],
   "metadata": {
    "collapsed": false,
    "pycharm": {
     "name": "#%%\n"
    }
   }
  },
  {
   "cell_type": "code",
   "execution_count": null,
   "outputs": [],
   "source": [],
   "metadata": {
    "collapsed": false,
    "pycharm": {
     "name": "#%%\n"
    }
   }
  }
 ],
 "metadata": {
  "kernelspec": {
   "display_name": "Python 3",
   "language": "python",
   "name": "python3"
  },
  "language_info": {
   "codemirror_mode": {
    "name": "ipython",
    "version": 3
   },
   "file_extension": ".py",
   "mimetype": "text/x-python",
   "name": "python",
   "nbconvert_exporter": "python",
   "pygments_lexer": "ipython3",
   "version": "3.8.5"
  }
 },
 "nbformat": 4,
 "nbformat_minor": 1
}